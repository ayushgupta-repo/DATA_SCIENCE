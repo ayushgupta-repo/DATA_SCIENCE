{
 "cells": [
  {
   "cell_type": "markdown",
   "metadata": {},
   "source": [
    "## Matplotlib Styling - Color and Styles"
   ]
  },
  {
   "cell_type": "code",
   "execution_count": 1,
   "metadata": {},
   "outputs": [],
   "source": [
    "import numpy as np\n",
    "import matplotlib.pyplot as plt"
   ]
  },
  {
   "cell_type": "code",
   "execution_count": 3,
   "metadata": {},
   "outputs": [],
   "source": [
    "# creating datasets\n",
    "\n",
    "a = np.linspace(0, 11, 10)\n",
    "b = 2*a\n",
    "\n",
    "x = np.arange(0, 10)\n",
    "y = x**4"
   ]
  },
  {
   "cell_type": "code",
   "execution_count": 4,
   "metadata": {},
   "outputs": [
    {
     "data": {
      "text/plain": [
       "array([ 0.        ,  1.22222222,  2.44444444,  3.66666667,  4.88888889,\n",
       "        6.11111111,  7.33333333,  8.55555556,  9.77777778, 11.        ])"
      ]
     },
     "execution_count": 4,
     "metadata": {},
     "output_type": "execute_result"
    }
   ],
   "source": [
    "a"
   ]
  },
  {
   "cell_type": "code",
   "execution_count": 5,
   "metadata": {},
   "outputs": [
    {
     "data": {
      "text/plain": [
       "array([ 0.        ,  2.44444444,  4.88888889,  7.33333333,  9.77777778,\n",
       "       12.22222222, 14.66666667, 17.11111111, 19.55555556, 22.        ])"
      ]
     },
     "execution_count": 5,
     "metadata": {},
     "output_type": "execute_result"
    }
   ],
   "source": [
    "b"
   ]
  },
  {
   "cell_type": "code",
   "execution_count": 6,
   "metadata": {},
   "outputs": [
    {
     "data": {
      "text/plain": [
       "array([0, 1, 2, 3, 4, 5, 6, 7, 8, 9])"
      ]
     },
     "execution_count": 6,
     "metadata": {},
     "output_type": "execute_result"
    }
   ],
   "source": [
    "x"
   ]
  },
  {
   "cell_type": "code",
   "execution_count": 7,
   "metadata": {},
   "outputs": [
    {
     "data": {
      "text/plain": [
       "array([   0,    1,   16,   81,  256,  625, 1296, 2401, 4096, 6561],\n",
       "      dtype=int32)"
      ]
     },
     "execution_count": 7,
     "metadata": {},
     "output_type": "execute_result"
    }
   ],
   "source": [
    "y"
   ]
  },
  {
   "cell_type": "code",
   "execution_count": 41,
   "metadata": {},
   "outputs": [
    {
     "data": {
      "image/png": "[encoded data removed]",
      "text/plain": [
       "<Figure size 432x288 with 1 Axes>"
      ]
     },
     "metadata": {
      "needs_background": "light"
     },
     "output_type": "display_data"
    }
   ],
   "source": [
    "# creating plotting and multiple stylings\n",
    "\n",
    "fig = plt.figure()\n",
    "ax = fig.add_axes([0, 0, 1, 1])\n",
    "\n",
    "# ax.plot(x, x); # Normal plotting with default blue color bar\n",
    "\n",
    "# changing default bar colors\n",
    "# ax.plot(x, x, color='#ebc334', label='X vs X')\n",
    "\n",
    "# ax.plot(x, x+1, color='purple', label='X vs X+1')\n",
    "\n",
    "# ax.legend();\n",
    "\n",
    "# setting linewidth (lw): You can use both linewidth as well as lw as a parameter and then pass the numerical value as the width as shown below\n",
    "\n",
    "# ax.plot(x, x, color='#ebc334', lw=10)\n",
    "\n",
    "# ax.plot(x, x+1, color='purple', linewidth=3);\n",
    "\n",
    "# setting linestyles (ls): You can use both linestyles (custom or provided ones(check documentation)) as well as ls as a parameter as shown below\n",
    "\n",
    "# ax.plot(x, x, color='#ebc334', lw=10, ls='--')\n",
    "\n",
    "# ax.plot(x, x+1, color='purple', linewidth=3, linestyle='-.');\n",
    "\n",
    "# setting custom linestyle: by providin spaces and dashes as an unit as shown below\n",
    "\n",
    "# lines = ax.plot(x, x, color='#ebc334', lw=10, ls='--')\n",
    "\n",
    "# type(lines) # Returns list which means it contains the dashes or bar represent in form of list elements. So, we can manipulate those as well using set_dashes method\n",
    "\n",
    "# lines # Returns line objects stored in list\n",
    "\n",
    "# do indexing to grab line objects\n",
    "# lines[0].set_dashes([1, 1, 1, 2, 3, 5]) # So, split the numbers into each of two element pairs, then the first value is for solid points and second value for blank points.\n",
    "\n",
    "# lines[0].set_dashes([5, 2, 10, 2])\n",
    "\n",
    "# NOTE: Generally we don't do these much of styling. We mainly focuses on data and ML things.\n",
    "\n",
    "# setting markers: markers (pass string for more info see documentation online) is like co-ordination points showing way as shown below\n",
    "\n",
    "# ax.plot(x, x, color='red', lw=3, marker='+', ls='--')\n",
    "\n",
    "# # NOTE: Also we can pass markersize or ms as paramter as in case of below\n",
    "# ax.plot(x, x+1, color='purple', lw=5, marker='o', ls='--', markersize=20);\n",
    "\n",
    "# NOTE: Markers also covering the edges, so we can further manipulate it as well like add edge width and many more.\n",
    "\n",
    "ax.plot(x, x+1, color='purple', ls='--', lw=3, marker='.', markersize=20, markerfacecolor='red', markeredgewidth=4, markeredgecolor='orange');"
   ]
  },
  {
   "cell_type": "code",
   "execution_count": null,
   "metadata": {},
   "outputs": [],
   "source": []
  }
 ],
 "metadata": {
  "kernelspec": {
   "display_name": "Python 3.10.4 64-bit",
   "language": "python",
   "name": "python3"
  },
  "language_info": {
   "codemirror_mode": {
    "name": "ipython",
    "version": 3
   },
   "file_extension": ".py",
   "mimetype": "text/x-python",
   "name": "python",
   "nbconvert_exporter": "python",
   "pygments_lexer": "ipython3",
   "version": "3.10.4"
  },
  "orig_nbformat": 4,
  "vscode": {
   "interpreter": {
    "hash": "8c3d4d9970fc5c09c50d9318a9c7fbf4d0159e4b28833276f5678ee22bded273"
   }
  }
 },
 "nbformat": 4,
 "nbformat_minor": 2
}
